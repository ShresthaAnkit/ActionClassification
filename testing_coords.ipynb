{
 "cells": [
  {
   "cell_type": "code",
   "execution_count": 1,
   "metadata": {},
   "outputs": [],
   "source": [
    "import plotly.graph_objects as go\n",
    "import pandas as pd\n",
    "import matplotlib.pyplot as plt\n",
    "from matplotlib.animation import FuncAnimation\n",
    "import numpy as np"
   ]
  },
  {
   "cell_type": "code",
   "execution_count": 2,
   "metadata": {},
   "outputs": [],
   "source": [
    "landmarks = pd.read_csv('new_output.csv',header=None)"
   ]
  },
  {
   "cell_type": "code",
   "execution_count": 3,
   "metadata": {},
   "outputs": [
    {
     "data": {
      "text/plain": [
       "12"
      ]
     },
     "execution_count": 3,
     "metadata": {},
     "output_type": "execute_result"
    }
   ],
   "source": [
    "landmarks[0].max()"
   ]
  },
  {
   "cell_type": "code",
   "execution_count": 4,
   "metadata": {},
   "outputs": [],
   "source": [
    "landmarks.drop(columns=[4],inplace=True)"
   ]
  },
  {
   "cell_type": "code",
   "execution_count": 5,
   "metadata": {},
   "outputs": [],
   "source": [
    "frame1 = landmarks.loc[landmarks[0]==10,1:3]"
   ]
  },
  {
   "cell_type": "code",
   "execution_count": 6,
   "metadata": {},
   "outputs": [],
   "source": [
    "x_coords=frame1.iloc[:,0]\n",
    "y_coords=frame1.iloc[:,1]\n",
    "z_coords=frame1.iloc[:,2]"
   ]
  },
  {
   "cell_type": "code",
   "execution_count": 7,
   "metadata": {},
   "outputs": [
    {
     "data": {
      "application/vnd.plotly.v1+json": {
       "config": {
        "plotlyServerURL": "https://plot.ly"
       },
       "data": [
        {
         "marker": {
          "color": "blue",
          "size": 5
         },
         "mode": "markers",
         "type": "scatter3d",
         "x": [
          0.5266171097755432,
          0.5367215275764465,
          0.5443896055221558,
          0.552116870880127,
          0.5107566714286804,
          0.5008406639099121,
          0.4912745654582977,
          0.5604613423347473,
          0.4780489206314087,
          0.5407636761665344,
          0.5114911794662476,
          0.6318249702453613,
          0.4178736209869385,
          0.6737679839134216,
          0.3383434414863586,
          0.6111405491828918,
          0.461017370223999,
          0.5840648412704468,
          0.5002970099449158,
          0.578821063041687,
          0.5058714747428894,
          0.5838676691055298,
          0.4946974515914917,
          0.5740857124328613,
          0.4429671168327331,
          0.5974836945533752,
          0.4539490938186645,
          0.6214043498039246,
          0.4451103806495666,
          0.6070582866668701,
          0.4574266672134399,
          0.6677395105361938,
          0.4210556447505951
         ],
         "y": [
          0.2219510227441787,
          0.2081172615289688,
          0.2078866064548492,
          0.2076353877782821,
          0.2088209986686706,
          0.2092524915933609,
          0.2096635997295379,
          0.2138372808694839,
          0.216869369149208,
          0.2366338372230529,
          0.2371615320444107,
          0.3019078969955444,
          0.2766491174697876,
          0.401184469461441,
          0.223416581749916,
          0.3695343732833862,
          0.1766294091939926,
          0.3677926659584045,
          0.1705083400011062,
          0.3543411195278168,
          0.1704577952623367,
          0.3540891706943512,
          0.1756487488746643,
          0.4841507375240326,
          0.4813505113124847,
          0.6160303354263306,
          0.6147093176841736,
          0.7215396761894226,
          0.7263996601104736,
          0.7338717579841614,
          0.7343884110450745,
          0.772445559501648,
          0.7816205620765686
         ],
         "z": [
          -0.3166015446186065,
          -0.2886915504932403,
          -0.2886134386062622,
          -0.2887249290943146,
          -0.275141566991806,
          -0.2749854624271393,
          -0.2749953866004944,
          -0.1206518560647964,
          -0.0665364935994148,
          -0.2570614814758301,
          -0.2383020520210266,
          -0.0716568380594253,
          -0.0025307009927928,
          -0.2891118228435516,
          -0.0879599153995513,
          -0.5517889857292175,
          0.1225654035806655,
          -0.6178010702133179,
          0.0981926918029785,
          -0.5952404737472534,
          0.1508623659610748,
          -0.5506719946861267,
          0.1323837786912918,
          0.0056283134035766,
          -0.0056918240152299,
          0.060757465660572,
          0.0689636915922164,
          0.2707206010818481,
          0.3323552310466766,
          0.2858423888683319,
          0.3489563465118408,
          0.0317976959049701,
          0.1347668170928955
         ]
        }
       ],
       "layout": {
        "scene": {
         "xaxis": {
          "title": {
           "text": "X Coordinate"
          }
         },
         "yaxis": {
          "autorange": "reversed",
          "title": {
           "text": "Y Coordinate"
          }
         },
         "zaxis": {
          "title": {
           "text": "Z Coordinate"
          }
         }
        },
        "template": {
         "data": {
          "bar": [
           {
            "error_x": {
             "color": "#2a3f5f"
            },
            "error_y": {
             "color": "#2a3f5f"
            },
            "marker": {
             "line": {
              "color": "#E5ECF6",
              "width": 0.5
             },
             "pattern": {
              "fillmode": "overlay",
              "size": 10,
              "solidity": 0.2
             }
            },
            "type": "bar"
           }
          ],
          "barpolar": [
           {
            "marker": {
             "line": {
              "color": "#E5ECF6",
              "width": 0.5
             },
             "pattern": {
              "fillmode": "overlay",
              "size": 10,
              "solidity": 0.2
             }
            },
            "type": "barpolar"
           }
          ],
          "carpet": [
           {
            "aaxis": {
             "endlinecolor": "#2a3f5f",
             "gridcolor": "white",
             "linecolor": "white",
             "minorgridcolor": "white",
             "startlinecolor": "#2a3f5f"
            },
            "baxis": {
             "endlinecolor": "#2a3f5f",
             "gridcolor": "white",
             "linecolor": "white",
             "minorgridcolor": "white",
             "startlinecolor": "#2a3f5f"
            },
            "type": "carpet"
           }
          ],
          "choropleth": [
           {
            "colorbar": {
             "outlinewidth": 0,
             "ticks": ""
            },
            "type": "choropleth"
           }
          ],
          "contour": [
           {
            "colorbar": {
             "outlinewidth": 0,
             "ticks": ""
            },
            "colorscale": [
             [
              0,
              "#0d0887"
             ],
             [
              0.1111111111111111,
              "#46039f"
             ],
             [
              0.2222222222222222,
              "#7201a8"
             ],
             [
              0.3333333333333333,
              "#9c179e"
             ],
             [
              0.4444444444444444,
              "#bd3786"
             ],
             [
              0.5555555555555556,
              "#d8576b"
             ],
             [
              0.6666666666666666,
              "#ed7953"
             ],
             [
              0.7777777777777778,
              "#fb9f3a"
             ],
             [
              0.8888888888888888,
              "#fdca26"
             ],
             [
              1,
              "#f0f921"
             ]
            ],
            "type": "contour"
           }
          ],
          "contourcarpet": [
           {
            "colorbar": {
             "outlinewidth": 0,
             "ticks": ""
            },
            "type": "contourcarpet"
           }
          ],
          "heatmap": [
           {
            "colorbar": {
             "outlinewidth": 0,
             "ticks": ""
            },
            "colorscale": [
             [
              0,
              "#0d0887"
             ],
             [
              0.1111111111111111,
              "#46039f"
             ],
             [
              0.2222222222222222,
              "#7201a8"
             ],
             [
              0.3333333333333333,
              "#9c179e"
             ],
             [
              0.4444444444444444,
              "#bd3786"
             ],
             [
              0.5555555555555556,
              "#d8576b"
             ],
             [
              0.6666666666666666,
              "#ed7953"
             ],
             [
              0.7777777777777778,
              "#fb9f3a"
             ],
             [
              0.8888888888888888,
              "#fdca26"
             ],
             [
              1,
              "#f0f921"
             ]
            ],
            "type": "heatmap"
           }
          ],
          "heatmapgl": [
           {
            "colorbar": {
             "outlinewidth": 0,
             "ticks": ""
            },
            "colorscale": [
             [
              0,
              "#0d0887"
             ],
             [
              0.1111111111111111,
              "#46039f"
             ],
             [
              0.2222222222222222,
              "#7201a8"
             ],
             [
              0.3333333333333333,
              "#9c179e"
             ],
             [
              0.4444444444444444,
              "#bd3786"
             ],
             [
              0.5555555555555556,
              "#d8576b"
             ],
             [
              0.6666666666666666,
              "#ed7953"
             ],
             [
              0.7777777777777778,
              "#fb9f3a"
             ],
             [
              0.8888888888888888,
              "#fdca26"
             ],
             [
              1,
              "#f0f921"
             ]
            ],
            "type": "heatmapgl"
           }
          ],
          "histogram": [
           {
            "marker": {
             "pattern": {
              "fillmode": "overlay",
              "size": 10,
              "solidity": 0.2
             }
            },
            "type": "histogram"
           }
          ],
          "histogram2d": [
           {
            "colorbar": {
             "outlinewidth": 0,
             "ticks": ""
            },
            "colorscale": [
             [
              0,
              "#0d0887"
             ],
             [
              0.1111111111111111,
              "#46039f"
             ],
             [
              0.2222222222222222,
              "#7201a8"
             ],
             [
              0.3333333333333333,
              "#9c179e"
             ],
             [
              0.4444444444444444,
              "#bd3786"
             ],
             [
              0.5555555555555556,
              "#d8576b"
             ],
             [
              0.6666666666666666,
              "#ed7953"
             ],
             [
              0.7777777777777778,
              "#fb9f3a"
             ],
             [
              0.8888888888888888,
              "#fdca26"
             ],
             [
              1,
              "#f0f921"
             ]
            ],
            "type": "histogram2d"
           }
          ],
          "histogram2dcontour": [
           {
            "colorbar": {
             "outlinewidth": 0,
             "ticks": ""
            },
            "colorscale": [
             [
              0,
              "#0d0887"
             ],
             [
              0.1111111111111111,
              "#46039f"
             ],
             [
              0.2222222222222222,
              "#7201a8"
             ],
             [
              0.3333333333333333,
              "#9c179e"
             ],
             [
              0.4444444444444444,
              "#bd3786"
             ],
             [
              0.5555555555555556,
              "#d8576b"
             ],
             [
              0.6666666666666666,
              "#ed7953"
             ],
             [
              0.7777777777777778,
              "#fb9f3a"
             ],
             [
              0.8888888888888888,
              "#fdca26"
             ],
             [
              1,
              "#f0f921"
             ]
            ],
            "type": "histogram2dcontour"
           }
          ],
          "mesh3d": [
           {
            "colorbar": {
             "outlinewidth": 0,
             "ticks": ""
            },
            "type": "mesh3d"
           }
          ],
          "parcoords": [
           {
            "line": {
             "colorbar": {
              "outlinewidth": 0,
              "ticks": ""
             }
            },
            "type": "parcoords"
           }
          ],
          "pie": [
           {
            "automargin": true,
            "type": "pie"
           }
          ],
          "scatter": [
           {
            "fillpattern": {
             "fillmode": "overlay",
             "size": 10,
             "solidity": 0.2
            },
            "type": "scatter"
           }
          ],
          "scatter3d": [
           {
            "line": {
             "colorbar": {
              "outlinewidth": 0,
              "ticks": ""
             }
            },
            "marker": {
             "colorbar": {
              "outlinewidth": 0,
              "ticks": ""
             }
            },
            "type": "scatter3d"
           }
          ],
          "scattercarpet": [
           {
            "marker": {
             "colorbar": {
              "outlinewidth": 0,
              "ticks": ""
             }
            },
            "type": "scattercarpet"
           }
          ],
          "scattergeo": [
           {
            "marker": {
             "colorbar": {
              "outlinewidth": 0,
              "ticks": ""
             }
            },
            "type": "scattergeo"
           }
          ],
          "scattergl": [
           {
            "marker": {
             "colorbar": {
              "outlinewidth": 0,
              "ticks": ""
             }
            },
            "type": "scattergl"
           }
          ],
          "scattermapbox": [
           {
            "marker": {
             "colorbar": {
              "outlinewidth": 0,
              "ticks": ""
             }
            },
            "type": "scattermapbox"
           }
          ],
          "scatterpolar": [
           {
            "marker": {
             "colorbar": {
              "outlinewidth": 0,
              "ticks": ""
             }
            },
            "type": "scatterpolar"
           }
          ],
          "scatterpolargl": [
           {
            "marker": {
             "colorbar": {
              "outlinewidth": 0,
              "ticks": ""
             }
            },
            "type": "scatterpolargl"
           }
          ],
          "scatterternary": [
           {
            "marker": {
             "colorbar": {
              "outlinewidth": 0,
              "ticks": ""
             }
            },
            "type": "scatterternary"
           }
          ],
          "surface": [
           {
            "colorbar": {
             "outlinewidth": 0,
             "ticks": ""
            },
            "colorscale": [
             [
              0,
              "#0d0887"
             ],
             [
              0.1111111111111111,
              "#46039f"
             ],
             [
              0.2222222222222222,
              "#7201a8"
             ],
             [
              0.3333333333333333,
              "#9c179e"
             ],
             [
              0.4444444444444444,
              "#bd3786"
             ],
             [
              0.5555555555555556,
              "#d8576b"
             ],
             [
              0.6666666666666666,
              "#ed7953"
             ],
             [
              0.7777777777777778,
              "#fb9f3a"
             ],
             [
              0.8888888888888888,
              "#fdca26"
             ],
             [
              1,
              "#f0f921"
             ]
            ],
            "type": "surface"
           }
          ],
          "table": [
           {
            "cells": {
             "fill": {
              "color": "#EBF0F8"
             },
             "line": {
              "color": "white"
             }
            },
            "header": {
             "fill": {
              "color": "#C8D4E3"
             },
             "line": {
              "color": "white"
             }
            },
            "type": "table"
           }
          ]
         },
         "layout": {
          "annotationdefaults": {
           "arrowcolor": "#2a3f5f",
           "arrowhead": 0,
           "arrowwidth": 1
          },
          "autotypenumbers": "strict",
          "coloraxis": {
           "colorbar": {
            "outlinewidth": 0,
            "ticks": ""
           }
          },
          "colorscale": {
           "diverging": [
            [
             0,
             "#8e0152"
            ],
            [
             0.1,
             "#c51b7d"
            ],
            [
             0.2,
             "#de77ae"
            ],
            [
             0.3,
             "#f1b6da"
            ],
            [
             0.4,
             "#fde0ef"
            ],
            [
             0.5,
             "#f7f7f7"
            ],
            [
             0.6,
             "#e6f5d0"
            ],
            [
             0.7,
             "#b8e186"
            ],
            [
             0.8,
             "#7fbc41"
            ],
            [
             0.9,
             "#4d9221"
            ],
            [
             1,
             "#276419"
            ]
           ],
           "sequential": [
            [
             0,
             "#0d0887"
            ],
            [
             0.1111111111111111,
             "#46039f"
            ],
            [
             0.2222222222222222,
             "#7201a8"
            ],
            [
             0.3333333333333333,
             "#9c179e"
            ],
            [
             0.4444444444444444,
             "#bd3786"
            ],
            [
             0.5555555555555556,
             "#d8576b"
            ],
            [
             0.6666666666666666,
             "#ed7953"
            ],
            [
             0.7777777777777778,
             "#fb9f3a"
            ],
            [
             0.8888888888888888,
             "#fdca26"
            ],
            [
             1,
             "#f0f921"
            ]
           ],
           "sequentialminus": [
            [
             0,
             "#0d0887"
            ],
            [
             0.1111111111111111,
             "#46039f"
            ],
            [
             0.2222222222222222,
             "#7201a8"
            ],
            [
             0.3333333333333333,
             "#9c179e"
            ],
            [
             0.4444444444444444,
             "#bd3786"
            ],
            [
             0.5555555555555556,
             "#d8576b"
            ],
            [
             0.6666666666666666,
             "#ed7953"
            ],
            [
             0.7777777777777778,
             "#fb9f3a"
            ],
            [
             0.8888888888888888,
             "#fdca26"
            ],
            [
             1,
             "#f0f921"
            ]
           ]
          },
          "colorway": [
           "#636efa",
           "#EF553B",
           "#00cc96",
           "#ab63fa",
           "#FFA15A",
           "#19d3f3",
           "#FF6692",
           "#B6E880",
           "#FF97FF",
           "#FECB52"
          ],
          "font": {
           "color": "#2a3f5f"
          },
          "geo": {
           "bgcolor": "white",
           "lakecolor": "white",
           "landcolor": "#E5ECF6",
           "showlakes": true,
           "showland": true,
           "subunitcolor": "white"
          },
          "hoverlabel": {
           "align": "left"
          },
          "hovermode": "closest",
          "mapbox": {
           "style": "light"
          },
          "paper_bgcolor": "white",
          "plot_bgcolor": "#E5ECF6",
          "polar": {
           "angularaxis": {
            "gridcolor": "white",
            "linecolor": "white",
            "ticks": ""
           },
           "bgcolor": "#E5ECF6",
           "radialaxis": {
            "gridcolor": "white",
            "linecolor": "white",
            "ticks": ""
           }
          },
          "scene": {
           "xaxis": {
            "backgroundcolor": "#E5ECF6",
            "gridcolor": "white",
            "gridwidth": 2,
            "linecolor": "white",
            "showbackground": true,
            "ticks": "",
            "zerolinecolor": "white"
           },
           "yaxis": {
            "backgroundcolor": "#E5ECF6",
            "gridcolor": "white",
            "gridwidth": 2,
            "linecolor": "white",
            "showbackground": true,
            "ticks": "",
            "zerolinecolor": "white"
           },
           "zaxis": {
            "backgroundcolor": "#E5ECF6",
            "gridcolor": "white",
            "gridwidth": 2,
            "linecolor": "white",
            "showbackground": true,
            "ticks": "",
            "zerolinecolor": "white"
           }
          },
          "shapedefaults": {
           "line": {
            "color": "#2a3f5f"
           }
          },
          "ternary": {
           "aaxis": {
            "gridcolor": "white",
            "linecolor": "white",
            "ticks": ""
           },
           "baxis": {
            "gridcolor": "white",
            "linecolor": "white",
            "ticks": ""
           },
           "bgcolor": "#E5ECF6",
           "caxis": {
            "gridcolor": "white",
            "linecolor": "white",
            "ticks": ""
           }
          },
          "title": {
           "x": 0.05
          },
          "xaxis": {
           "automargin": true,
           "gridcolor": "white",
           "linecolor": "white",
           "ticks": "",
           "title": {
            "standoff": 15
           },
           "zerolinecolor": "white",
           "zerolinewidth": 2
          },
          "yaxis": {
           "automargin": true,
           "gridcolor": "white",
           "linecolor": "white",
           "ticks": "",
           "title": {
            "standoff": 15
           },
           "zerolinecolor": "white",
           "zerolinewidth": 2
          }
         }
        },
        "title": {
         "text": "3D Visualization of Mediapipe Landmarks"
        }
       }
      }
     },
     "metadata": {},
     "output_type": "display_data"
    }
   ],
   "source": [
    "# Create a 3D scatter plot\n",
    "fig = go.Figure(data=[go.Scatter3d(\n",
    "    x=x_coords,\n",
    "    y=y_coords,\n",
    "    z=z_coords,\n",
    "    mode='markers',\n",
    "    marker=dict(size=5, color='blue'),\n",
    ")])\n",
    "fig.update_layout(\n",
    "    title=\"3D Visualization of Mediapipe Landmarks\",\n",
    "    scene=dict(\n",
    "        xaxis_title=\"X Coordinate\",\n",
    "        yaxis_title=\"Y Coordinate\",\n",
    "        zaxis_title=\"Z Coordinate\",\n",
    "        yaxis=dict(autorange='reversed')\n",
    "    )\n",
    ")\n",
    "\n",
    "fig.show()"
   ]
  },
  {
   "cell_type": "code",
   "execution_count": 8,
   "metadata": {},
   "outputs": [
    {
     "data": {
      "image/png": "[encoded data removed]",
      "text/plain": [
       "<Figure size 640x480 with 1 Axes>"
      ]
     },
     "metadata": {},
     "output_type": "display_data"
    }
   ],
   "source": [
    "plt.scatter(x_coords, y_coords, color='blue', marker='o')\n",
    "\n",
    "# Add labels and title\n",
    "plt.xlabel('X-Axis Label')\n",
    "plt.ylabel('Y-Axis Label')\n",
    "plt.title('2D Scatter Plot')\n",
    "plt.gca().invert_yaxis()\n",
    "\n",
    "# Show the plot\n",
    "plt.grid(True)\n",
    "plt.show()"
   ]
  },
  {
   "cell_type": "code",
   "execution_count": 9,
   "metadata": {},
   "outputs": [],
   "source": [
    "df=landmarks"
   ]
  },
  {
   "cell_type": "code",
   "execution_count": 10,
   "metadata": {},
   "outputs": [],
   "source": [
    "import matplotlib\n",
    "matplotlib.use('TkAgg')"
   ]
  },
  {
   "cell_type": "code",
   "execution_count": 11,
   "metadata": {},
   "outputs": [],
   "source": [
    "df.rename(columns={0:'frame_number', 1:'x', 2:'y'}, inplace=True)"
   ]
  },
  {
   "cell_type": "code",
   "execution_count": 12,
   "metadata": {},
   "outputs": [],
   "source": [
    "# MediaPipe Pose Landmarks and their corresponding body parts\n",
    "connections = [\n",
    "    (0, 1),  # nose -> left eye (inner)\n",
    "    (0, 2),  # nose -> left eye\n",
    "    (0, 3),  # nose -> left eye (outer)\n",
    "    (0, 4),  # nose -> right eye (inner)\n",
    "    (0, 5),  # nose -> right eye\n",
    "    (0, 6),  # nose -> right eye (outer)\n",
    "    (1, 2),  # left eye (inner) -> left eye\n",
    "    (2, 3),  # left eye -> left eye (outer)\n",
    "    (4, 5),  # right eye (inner) -> right eye\n",
    "    (5, 6),  # right eye -> right eye (outer)\n",
    "    (7, 8),  # left ear -> right ear\n",
    "    (9, 10),  # mouth (left) -> mouth (right)\n",
    "    (11, 12),  # left shoulder -> right shoulder\n",
    "    (12, 13),  # right shoulder -> left elbow\n",
    "    (13, 14),  # left elbow -> right elbow\n",
    "    (14, 15),  # right elbow -> left wrist\n",
    "    (11, 15),  # left shoulder -> left wrist\n",
    "    (12, 16),  # right shoulder -> right wrist\n",
    "    (15, 17),  # left wrist -> left pinky\n",
    "    (15, 19),  # left wrist -> left index\n",
    "    (15, 21),  # left wrist -> left thumb\n",
    "    (16, 18),  # right wrist -> right pinky\n",
    "    (16, 20),  # right wrist -> right index\n",
    "    (16, 22),  # right wrist -> right thumb\n",
    "    (23, 24),  # left hip -> right hip\n",
    "    (11, 23),  # left shoulder -> left hip\n",
    "    (12, 24),  # right shoulder -> right hip\n",
    "    (23, 25),  # left hip -> left knee\n",
    "    (24, 26),  # right hip -> right knee\n",
    "    (25, 27),  # left knee -> left ankle\n",
    "    (26, 28),  # right knee -> right ankle\n",
    "    (27, 29),  # left ankle -> left heel\n",
    "    (28, 30),  # right ankle -> right heel\n",
    "    (29, 31),  # left heel -> left foot index\n",
    "    (30, 32),  # right heel -> right foot index\n",
    "]"
   ]
  },
  {
   "cell_type": "code",
   "execution_count": 13,
   "metadata": {},
   "outputs": [
    {
     "data": {
      "text/html": [
       "<div>\n",
       "<style scoped>\n",
       "    .dataframe tbody tr th:only-of-type {\n",
       "        vertical-align: middle;\n",
       "    }\n",
       "\n",
       "    .dataframe tbody tr th {\n",
       "        vertical-align: top;\n",
       "    }\n",
       "\n",
       "    .dataframe thead th {\n",
       "        text-align: right;\n",
       "    }\n",
       "</style>\n",
       "<table border=\"1\" class=\"dataframe\">\n",
       "  <thead>\n",
       "    <tr style=\"text-align: right;\">\n",
       "      <th></th>\n",
       "      <th>frame_number</th>\n",
       "      <th>x</th>\n",
       "      <th>y</th>\n",
       "      <th>3</th>\n",
       "    </tr>\n",
       "  </thead>\n",
       "  <tbody>\n",
       "    <tr>\n",
       "      <th>0</th>\n",
       "      <td>1</td>\n",
       "      <td>0.502483</td>\n",
       "      <td>0.222341</td>\n",
       "      <td>-0.325857</td>\n",
       "    </tr>\n",
       "    <tr>\n",
       "      <th>1</th>\n",
       "      <td>1</td>\n",
       "      <td>0.512255</td>\n",
       "      <td>0.208485</td>\n",
       "      <td>-0.298681</td>\n",
       "    </tr>\n",
       "    <tr>\n",
       "      <th>2</th>\n",
       "      <td>1</td>\n",
       "      <td>0.518647</td>\n",
       "      <td>0.208125</td>\n",
       "      <td>-0.298691</td>\n",
       "    </tr>\n",
       "    <tr>\n",
       "      <th>3</th>\n",
       "      <td>1</td>\n",
       "      <td>0.526707</td>\n",
       "      <td>0.207865</td>\n",
       "      <td>-0.298778</td>\n",
       "    </tr>\n",
       "    <tr>\n",
       "      <th>4</th>\n",
       "      <td>1</td>\n",
       "      <td>0.485975</td>\n",
       "      <td>0.209853</td>\n",
       "      <td>-0.301795</td>\n",
       "    </tr>\n",
       "    <tr>\n",
       "      <th>5</th>\n",
       "      <td>1</td>\n",
       "      <td>0.474145</td>\n",
       "      <td>0.210598</td>\n",
       "      <td>-0.301663</td>\n",
       "    </tr>\n",
       "    <tr>\n",
       "      <th>6</th>\n",
       "      <td>1</td>\n",
       "      <td>0.465174</td>\n",
       "      <td>0.211592</td>\n",
       "      <td>-0.301561</td>\n",
       "    </tr>\n",
       "    <tr>\n",
       "      <th>7</th>\n",
       "      <td>1</td>\n",
       "      <td>0.535003</td>\n",
       "      <td>0.214234</td>\n",
       "      <td>-0.122581</td>\n",
       "    </tr>\n",
       "    <tr>\n",
       "      <th>8</th>\n",
       "      <td>1</td>\n",
       "      <td>0.449930</td>\n",
       "      <td>0.220429</td>\n",
       "      <td>-0.143156</td>\n",
       "    </tr>\n",
       "    <tr>\n",
       "      <th>9</th>\n",
       "      <td>1</td>\n",
       "      <td>0.516450</td>\n",
       "      <td>0.237295</td>\n",
       "      <td>-0.259854</td>\n",
       "    </tr>\n",
       "    <tr>\n",
       "      <th>10</th>\n",
       "      <td>1</td>\n",
       "      <td>0.485132</td>\n",
       "      <td>0.239775</td>\n",
       "      <td>-0.265724</td>\n",
       "    </tr>\n",
       "    <tr>\n",
       "      <th>11</th>\n",
       "      <td>1</td>\n",
       "      <td>0.614511</td>\n",
       "      <td>0.296951</td>\n",
       "      <td>-0.067147</td>\n",
       "    </tr>\n",
       "    <tr>\n",
       "      <th>12</th>\n",
       "      <td>1</td>\n",
       "      <td>0.389812</td>\n",
       "      <td>0.298076</td>\n",
       "      <td>-0.044037</td>\n",
       "    </tr>\n",
       "    <tr>\n",
       "      <th>13</th>\n",
       "      <td>1</td>\n",
       "      <td>0.682907</td>\n",
       "      <td>0.387495</td>\n",
       "      <td>-0.212910</td>\n",
       "    </tr>\n",
       "    <tr>\n",
       "      <th>14</th>\n",
       "      <td>1</td>\n",
       "      <td>0.302887</td>\n",
       "      <td>0.357328</td>\n",
       "      <td>-0.207586</td>\n",
       "    </tr>\n",
       "    <tr>\n",
       "      <th>15</th>\n",
       "      <td>1</td>\n",
       "      <td>0.597646</td>\n",
       "      <td>0.347648</td>\n",
       "      <td>-0.431770</td>\n",
       "    </tr>\n",
       "    <tr>\n",
       "      <th>16</th>\n",
       "      <td>1</td>\n",
       "      <td>0.305212</td>\n",
       "      <td>0.346445</td>\n",
       "      <td>-0.498206</td>\n",
       "    </tr>\n",
       "    <tr>\n",
       "      <th>17</th>\n",
       "      <td>1</td>\n",
       "      <td>0.569949</td>\n",
       "      <td>0.340308</td>\n",
       "      <td>-0.474978</td>\n",
       "    </tr>\n",
       "    <tr>\n",
       "      <th>18</th>\n",
       "      <td>1</td>\n",
       "      <td>0.304532</td>\n",
       "      <td>0.356414</td>\n",
       "      <td>-0.542248</td>\n",
       "    </tr>\n",
       "    <tr>\n",
       "      <th>19</th>\n",
       "      <td>1</td>\n",
       "      <td>0.562771</td>\n",
       "      <td>0.327623</td>\n",
       "      <td>-0.441330</td>\n",
       "    </tr>\n",
       "    <tr>\n",
       "      <th>20</th>\n",
       "      <td>1</td>\n",
       "      <td>0.299310</td>\n",
       "      <td>0.344505</td>\n",
       "      <td>-0.539281</td>\n",
       "    </tr>\n",
       "    <tr>\n",
       "      <th>21</th>\n",
       "      <td>1</td>\n",
       "      <td>0.566271</td>\n",
       "      <td>0.329543</td>\n",
       "      <td>-0.418296</td>\n",
       "    </tr>\n",
       "    <tr>\n",
       "      <th>22</th>\n",
       "      <td>1</td>\n",
       "      <td>0.307194</td>\n",
       "      <td>0.343466</td>\n",
       "      <td>-0.506706</td>\n",
       "    </tr>\n",
       "    <tr>\n",
       "      <th>23</th>\n",
       "      <td>1</td>\n",
       "      <td>0.572008</td>\n",
       "      <td>0.486819</td>\n",
       "      <td>0.011844</td>\n",
       "    </tr>\n",
       "    <tr>\n",
       "      <th>24</th>\n",
       "      <td>1</td>\n",
       "      <td>0.443922</td>\n",
       "      <td>0.488464</td>\n",
       "      <td>-0.012045</td>\n",
       "    </tr>\n",
       "    <tr>\n",
       "      <th>25</th>\n",
       "      <td>1</td>\n",
       "      <td>0.596841</td>\n",
       "      <td>0.616362</td>\n",
       "      <td>0.111918</td>\n",
       "    </tr>\n",
       "    <tr>\n",
       "      <th>26</th>\n",
       "      <td>1</td>\n",
       "      <td>0.454378</td>\n",
       "      <td>0.622030</td>\n",
       "      <td>0.078014</td>\n",
       "    </tr>\n",
       "    <tr>\n",
       "      <th>27</th>\n",
       "      <td>1</td>\n",
       "      <td>0.624110</td>\n",
       "      <td>0.724723</td>\n",
       "      <td>0.309103</td>\n",
       "    </tr>\n",
       "    <tr>\n",
       "      <th>28</th>\n",
       "      <td>1</td>\n",
       "      <td>0.445133</td>\n",
       "      <td>0.730464</td>\n",
       "      <td>0.294585</td>\n",
       "    </tr>\n",
       "    <tr>\n",
       "      <th>29</th>\n",
       "      <td>1</td>\n",
       "      <td>0.610496</td>\n",
       "      <td>0.738918</td>\n",
       "      <td>0.316979</td>\n",
       "    </tr>\n",
       "    <tr>\n",
       "      <th>30</th>\n",
       "      <td>1</td>\n",
       "      <td>0.458288</td>\n",
       "      <td>0.740166</td>\n",
       "      <td>0.305811</td>\n",
       "    </tr>\n",
       "    <tr>\n",
       "      <th>31</th>\n",
       "      <td>1</td>\n",
       "      <td>0.662969</td>\n",
       "      <td>0.772712</td>\n",
       "      <td>0.121673</td>\n",
       "    </tr>\n",
       "    <tr>\n",
       "      <th>32</th>\n",
       "      <td>1</td>\n",
       "      <td>0.425877</td>\n",
       "      <td>0.781860</td>\n",
       "      <td>0.129320</td>\n",
       "    </tr>\n",
       "  </tbody>\n",
       "</table>\n",
       "</div>"
      ],
      "text/plain": [
       "    frame_number         x         y         3\n",
       "0              1  0.502483  0.222341 -0.325857\n",
       "1              1  0.512255  0.208485 -0.298681\n",
       "2              1  0.518647  0.208125 -0.298691\n",
       "3              1  0.526707  0.207865 -0.298778\n",
       "4              1  0.485975  0.209853 -0.301795\n",
       "5              1  0.474145  0.210598 -0.301663\n",
       "6              1  0.465174  0.211592 -0.301561\n",
       "7              1  0.535003  0.214234 -0.122581\n",
       "8              1  0.449930  0.220429 -0.143156\n",
       "9              1  0.516450  0.237295 -0.259854\n",
       "10             1  0.485132  0.239775 -0.265724\n",
       "11             1  0.614511  0.296951 -0.067147\n",
       "12             1  0.389812  0.298076 -0.044037\n",
       "13             1  0.682907  0.387495 -0.212910\n",
       "14             1  0.302887  0.357328 -0.207586\n",
       "15             1  0.597646  0.347648 -0.431770\n",
       "16             1  0.305212  0.346445 -0.498206\n",
       "17             1  0.569949  0.340308 -0.474978\n",
       "18             1  0.304532  0.356414 -0.542248\n",
       "19             1  0.562771  0.327623 -0.441330\n",
       "20             1  0.299310  0.344505 -0.539281\n",
       "21             1  0.566271  0.329543 -0.418296\n",
       "22             1  0.307194  0.343466 -0.506706\n",
       "23             1  0.572008  0.486819  0.011844\n",
       "24             1  0.443922  0.488464 -0.012045\n",
       "25             1  0.596841  0.616362  0.111918\n",
       "26             1  0.454378  0.622030  0.078014\n",
       "27             1  0.624110  0.724723  0.309103\n",
       "28             1  0.445133  0.730464  0.294585\n",
       "29             1  0.610496  0.738918  0.316979\n",
       "30             1  0.458288  0.740166  0.305811\n",
       "31             1  0.662969  0.772712  0.121673\n",
       "32             1  0.425877  0.781860  0.129320"
      ]
     },
     "execution_count": 13,
     "metadata": {},
     "output_type": "execute_result"
    }
   ],
   "source": [
    "frame_data = df[df['frame_number'] == 1]\n",
    "frame_data"
   ]
  },
  {
   "cell_type": "code",
   "execution_count": 14,
   "metadata": {},
   "outputs": [],
   "source": [
    "fig, ax = plt.subplots()\n",
    "\n",
    "scat = ax.scatter([], [], c='blue', marker='o')\n",
    "# Optionally, reset the axes limits and labels each time\n",
    "ax.set_xlim(0, 1)  # Adjust as per your data range\n",
    "ax.set_ylim(0, 1)\n",
    "\n",
    "ax.set_title(\"Pose Landmarks Animation\")\n",
    "ax.set_xlabel(\"Normalized X\")\n",
    "ax.set_ylabel(\"Normalized Y\")\n",
    "for i in range(1, 12):\n",
    "    # Filter the data for the current frame\n",
    "    frame_data = df[df['frame_number'] == i]\n",
    "\n",
    "    # Update the scatter plot with new data\n",
    "    #scat.set_offsets(list(zip(frame_data['x'], frame_data['y'])))\n",
    "    ax.invert_yaxis()\n",
    "    # Plot the connections between points\n",
    "    for connection in connections:\n",
    "        try:\n",
    "            x1, y1 = frame_data.iloc[connection[0]]['x'], frame_data.iloc[connection[0]]['y']\n",
    "            x2, y2 = frame_data.iloc[connection[1]]['x'], frame_data.iloc[connection[1]]['y']\n",
    "            ax.plot([x1, x2], [y1, y2], 'k-', lw=1)  # Draw lines between connected points\n",
    "        except:\n",
    "            plt.close()\n",
    "    \n",
    "    plt.pause(0.5)  # Pause for the animation effect\n",
    "\n",
    "    # Optionally, clear the plot, but keep the figure to update it for the next frame\n",
    "    ax.cla()  # Clears only the axes\n",
    "    \n",
    "plt.close()\n",
    "    \n"
   ]
  },
  {
   "cell_type": "code",
   "execution_count": null,
   "metadata": {},
   "outputs": [],
   "source": []
  }
 ],
 "metadata": {
  "kernelspec": {
   "display_name": "Python 3",
   "language": "python",
   "name": "python3"
  },
  "language_info": {
   "codemirror_mode": {
    "name": "ipython",
    "version": 3
   },
   "file_extension": ".py",
   "mimetype": "text/x-python",
   "name": "python",
   "nbconvert_exporter": "python",
   "pygments_lexer": "ipython3",
   "version": "3.11.2"
  }
 },
 "nbformat": 4,
 "nbformat_minor": 2
}
