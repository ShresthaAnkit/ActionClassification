{
 "cells": [
  {
   "cell_type": "code",
   "execution_count": null,
   "metadata": {},
   "outputs": [],
   "source": [
    "import cv2\n",
    "import mediapipe as mp\n",
    "import csv\n",
    "import pandas as pd\n",
    "import os"
   ]
  },
  {
   "cell_type": "code",
   "execution_count": null,
   "metadata": {},
   "outputs": [],
   "source": [
    "# Initialize MediaPipe Pose and Drawing utilities\n",
    "mp_pose = mp.solutions.pose\n",
    "mp_drawing = mp.solutions.drawing_utils"
   ]
  },
  {
   "cell_type": "code",
   "execution_count": null,
   "metadata": {},
   "outputs": [],
   "source": [
    "DATASET_DIR = 'Single_person_violent'\n",
    "CLASSES_LIST = [\"Kicking\",\"Punching\"]\n",
    "output_path = 'Output'"
   ]
  },
  {
   "cell_type": "code",
   "execution_count": 153,
   "metadata": {},
   "outputs": [],
   "source": [
    "def write_landmarks_to_csv(landmarks, frame_number, csv_data):\n",
    "    #print(f\"Landmark coordinates for frame {frame_number}:\")\n",
    "    for idx, landmark in enumerate(landmarks):\n",
    "        #print(f\"{mp_pose.PoseLandmark(idx).name}: (x: {landmark.x}, y: {landmark.y}, z: {landmark.z})\")\n",
    "        csv_data.append([frame_number, landmark.x, landmark.y, landmark.z, landmark.visibility])    "
   ]
  },
  {
   "cell_type": "code",
   "execution_count": 154,
   "metadata": {},
   "outputs": [],
   "source": [
    "def convert_video_to_landmark_csv(video_path):\n",
    "    frame_number = 0\n",
    "    csv_data = []\n",
    "\n",
    "    # Open the video file\n",
    "    cap = cv2.VideoCapture(video_path)\n",
    "\n",
    "    with mp_pose.Pose(min_detection_confidence=0.5, min_tracking_confidence=0.5) as pose:\n",
    "        while cap.isOpened():\n",
    "            frame_number += 1\n",
    "            ret, frame = cap.read()\n",
    "            if not ret:\n",
    "                break\n",
    "\n",
    "            # Convert the image to RGB\n",
    "            image = cv2.cvtColor(frame, cv2.COLOR_BGR2RGB)\n",
    "            image.flags.writeable = False\n",
    "\n",
    "            # Perform pose detection\n",
    "            results = pose.process(image)\n",
    "\n",
    "            # Convert the image back to BGR\n",
    "            image.flags.writeable = True\n",
    "            image = cv2.cvtColor(image, cv2.COLOR_RGB2BGR)\n",
    "\n",
    "            # Draw the pose annotation on the image\n",
    "            if results.pose_landmarks:\n",
    "                mp_drawing.draw_landmarks(\n",
    "                    image, results.pose_landmarks, mp_pose.POSE_CONNECTIONS)\n",
    "\n",
    "            # Add the landmark coordinates to the list and print them\n",
    "            write_landmarks_to_csv(results.pose_landmarks.landmark, frame_number, csv_data)   \n",
    "    cap.release() \n",
    "    # Write the 2D array to a CSV file\n",
    "    file_name = video_path.split('\\\\')[-1][:-4]\n",
    "    class_name = video_path.split('\\\\')[-2]    \n",
    "    output_file = os.path.join(output_path, class_name,file_name)    \n",
    "    with open(f'{output_file}.csv', mode='w', newline='') as file:\n",
    "        writer = csv.writer(file)\n",
    "        # Write each row of the 2D array\n",
    "        for row in csv_data:\n",
    "            writer.writerow(row)"
   ]
  },
  {
   "cell_type": "code",
   "execution_count": null,
   "metadata": {},
   "outputs": [],
   "source": [
    "def create_dataset(CLASSES_LIST):\n",
    "    print('List: ',CLASSES_LIST)\n",
    "    for class_name in CLASSES_LIST:\n",
    "        print(f\"Extracting data from {class_name}\")\n",
    "        # Get list of videos for each class\n",
    "        files_list = os.listdir(os.path.join(DATASET_DIR, class_name))\n",
    "        for file_name in files_list:\n",
    "            # Get the complete video path.\n",
    "            video_file_path = os.path.join(DATASET_DIR, class_name, file_name)\n",
    "            convert_video_to_landmark_csv(video_file_path)"
   ]
  },
  {
   "cell_type": "code",
   "execution_count": null,
   "metadata": {},
   "outputs": [],
   "source": [
    "create_dataset(CLASSES_LIST)"
   ]
  },
  {
   "cell_type": "code",
   "execution_count": null,
   "metadata": {},
   "outputs": [],
   "source": [
    "custom_headers = ['Frame Number', 'x','y','z','Visibility']\n",
    "df = pd.read_csv('output.csv', header=None, names=custom_headers)"
   ]
  },
  {
   "cell_type": "code",
   "execution_count": null,
   "metadata": {},
   "outputs": [],
   "source": [
    "df.head()"
   ]
  },
  {
   "cell_type": "code",
   "execution_count": null,
   "metadata": {},
   "outputs": [],
   "source": [
    "def createframe(csv_path):\n",
    "    custom_headers = ['Frame Number', 'x', 'y', 'z', 'Visibility']\n",
    "    data = pd.read_csv(csv_path, header=None, names=custom_headers)\n",
    "    #frame = [[d[1]['x'], d[1]['y'], d[1]['z'], d[1]['Visibility']] for d in data.iterrows()]\n",
    "    current_frame = -1\n",
    "    frame = []\n",
    "    sequence = []\n",
    "    for d in data.iterrows():\n",
    "        if not current_frame == d[1]['Frame Number']:\n",
    "            current_frame = d[1]['Frame Number']\n",
    "            if frame:              \n",
    "                sequence.append(frame)                            \n",
    "                frame = []        \n",
    "        frame.append([d[1]['x'], d[1]['y'], d[1]['z'], d[1]['Visibility']])    \n",
    "    sequence.append(frame)            \n",
    "    return sequence\n"
   ]
  },
  {
   "cell_type": "code",
   "execution_count": null,
   "metadata": {},
   "outputs": [],
   "source": [
    "# Read data from CSV and append to processed_df\n",
    "frame = createframe('output.csv')\n",
    "processed_df = pd.DataFrame([frame])\n",
    "#processed_df2 = processed_df.append(pd.DataFrame(frame, columns=['x', 'y', 'z', 'Visibility']), ignore_index=True)"
   ]
  },
  {
   "cell_type": "code",
   "execution_count": null,
   "metadata": {},
   "outputs": [],
   "source": []
  }
 ],
 "metadata": {
  "kernelspec": {
   "display_name": "Python 3",
   "language": "python",
   "name": "python3"
  },
  "language_info": {
   "codemirror_mode": {
    "name": "ipython",
    "version": 3
   },
   "file_extension": ".py",
   "mimetype": "text/x-python",
   "name": "python",
   "nbconvert_exporter": "python",
   "pygments_lexer": "ipython3",
   "version": "3.11.2"
  }
 },
 "nbformat": 4,
 "nbformat_minor": 2
}
